{
 "cells": [
  {
   "cell_type": "code",
   "execution_count": 1,
   "source": [
    "alien_0 = {\"color\": \"green\", \"points\": 5}\n",
    "print(alien_0[\"color\"])\n",
    "print(alien_0[\"points\"])"
   ],
   "outputs": [
    {
     "output_type": "stream",
     "name": "stdout",
     "text": [
      "green\n",
      "5\n"
     ]
    }
   ],
   "metadata": {}
  },
  {
   "cell_type": "code",
   "execution_count": 3,
   "source": [
    "ailen_0 = {\"color\": \"green\", \"points\": 5}\n",
    "alien_0 = {\"color\": \"green\"}\n",
    "print(alien_0[\"color\"])\n"
   ],
   "outputs": [
    {
     "output_type": "stream",
     "name": "stdout",
     "text": [
      "green\n"
     ]
    }
   ],
   "metadata": {}
  },
  {
   "cell_type": "code",
   "execution_count": 5,
   "source": [
    "alien_0 = {\"color\": \"green\", \"points\": 5}\n",
    "new_points = alien_0[\"points\"]\n",
    "print(\"You just earned \" + str(new_points) + \" points!\")\n"
   ],
   "outputs": [
    {
     "output_type": "stream",
     "name": "stdout",
     "text": [
      "You just earned 5 points!\n"
     ]
    }
   ],
   "metadata": {}
  },
  {
   "cell_type": "code",
   "execution_count": 6,
   "source": [
    "alien_0 = {\"color\": \"green\", \"points\": 5}\n",
    "print(alien_0)\n",
    "alien_0[\"x_position\"] = 0\n",
    "alien_0[\"y_position\"] = 25\n",
    "print(alien_0)"
   ],
   "outputs": [
    {
     "output_type": "stream",
     "name": "stdout",
     "text": [
      "{'color': 'green', 'points': 5}\n",
      "{'color': 'green', 'points': 5, 'x_position': 0, 'y_position': 25}\n"
     ]
    }
   ],
   "metadata": {}
  },
  {
   "cell_type": "code",
   "execution_count": 7,
   "source": [
    "alien_0 = {}\n",
    "alien_0[\"color\"] = \"green\"\n",
    "alien_0[\"points\"] = 5\n",
    "print(alien_0)"
   ],
   "outputs": [
    {
     "output_type": "stream",
     "name": "stdout",
     "text": [
      "{'color': 'green', 'points': 5}\n"
     ]
    }
   ],
   "metadata": {}
  }
 ],
 "metadata": {
  "orig_nbformat": 4,
  "language_info": {
   "name": "python",
   "version": "3.8.8",
   "mimetype": "text/x-python",
   "codemirror_mode": {
    "name": "ipython",
    "version": 3
   },
   "pygments_lexer": "ipython3",
   "nbconvert_exporter": "python",
   "file_extension": ".py"
  },
  "kernelspec": {
   "name": "python3",
   "display_name": "Python 3.8.8 64-bit ('base': conda)"
  },
  "interpreter": {
   "hash": "cbeed07afa0021eda1aa754810e254a78b5633e52375e3589d436411214430de"
  }
 },
 "nbformat": 4,
 "nbformat_minor": 2
}