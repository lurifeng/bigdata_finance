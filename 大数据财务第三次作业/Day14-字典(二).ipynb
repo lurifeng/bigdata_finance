{
 "cells": [
  {
   "cell_type": "code",
   "execution_count": 1,
   "source": [
    "alien_0 = {\"color\": \"green\"}\n",
    "print(\"The alien is \" + alien_0[\"color\"] + \".\")\n",
    "alien_0[\"color\"] = \"yellow\"\n",
    "print(\"The alien is now \" + alien_0[\"color\"] + \".\")"
   ],
   "outputs": [
    {
     "output_type": "stream",
     "name": "stdout",
     "text": [
      "The alien is green.\n",
      "The alien is now yellow.\n"
     ]
    }
   ],
   "metadata": {}
  },
  {
   "cell_type": "code",
   "execution_count": 2,
   "source": [
    "alien_0 = {\"x_position\": 0, \"y_position\": 25, \"speed\": \"medium\"}\n",
    "print(\"Original x-position: \" + str(alien_0[\"x_position\"]))\n",
    "#向右移动外星人\n",
    "#据外星人当前速度决定将其移动多远\n",
    "if alien_0[\"speed\"] == \"slow\":\n",
    "    x_increment = 1\n",
    "elif alien_0[\"speed\"] == \"medium\":\n",
    "    x_increment = 2\n",
    "else:\n",
    "    #这个外星人的速度一定很快\n",
    "    x_increment = 3\n",
    "#新位置等于老位置加上增量\n",
    "alien_0[\"x_position\"] = alien_0[\"x_position\"] + x_increment\n",
    "print(\"New x-position: \" + str(alien_0[\"x_position\"]))"
   ],
   "outputs": [
    {
     "output_type": "stream",
     "name": "stdout",
     "text": [
      "Original x-position: 0\n",
      "New x-position: 2\n"
     ]
    }
   ],
   "metadata": {}
  },
  {
   "cell_type": "code",
   "execution_count": 3,
   "source": [
    "alien_0 = {\"color\": \"green\", \"points\": 5}\n",
    "print(alien_0)\n",
    "del alien_0[\"points\"]\n",
    "print(alien_0)"
   ],
   "outputs": [
    {
     "output_type": "stream",
     "name": "stdout",
     "text": [
      "{'color': 'green', 'points': 5}\n",
      "{'color': 'green'}\n"
     ]
    }
   ],
   "metadata": {}
  }
 ],
 "metadata": {
  "orig_nbformat": 4,
  "language_info": {
   "name": "python",
   "version": "3.8.8",
   "mimetype": "text/x-python",
   "codemirror_mode": {
    "name": "ipython",
    "version": 3
   },
   "pygments_lexer": "ipython3",
   "nbconvert_exporter": "python",
   "file_extension": ".py"
  },
  "kernelspec": {
   "name": "python3",
   "display_name": "Python 3.8.8 64-bit ('base': conda)"
  },
  "interpreter": {
   "hash": "cbeed07afa0021eda1aa754810e254a78b5633e52375e3589d436411214430de"
  }
 },
 "nbformat": 4,
 "nbformat_minor": 2
}